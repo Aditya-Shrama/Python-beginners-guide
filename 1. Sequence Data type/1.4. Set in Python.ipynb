{
 "cells": [
  {
   "cell_type": "markdown",
   "id": "64563b07-9fbc-4ada-b7e1-7378af87d21c",
   "metadata": {},
   "source": [
    "# Sets\n",
    "\n",
    "A set is an unorderd collection of items. Every set element is unique (no duplicates) and must be immutable (cannot be change).\n",
    "\n",
    "However, a set itself is mutable. We can add or remove items from it.\n",
    "\n",
    "Sets can also be used to perform mathematical set operations like UNION, INTERSECTION, SYMMETRIC, DIFFERNECE,e.tc.\n",
    "\n",
    "Characterstics:\n",
    "\n",
    "* Unordered (Hashing wil control where the item will be placed in set)\n",
    "* Mutable\n",
    "* No duplicates\n",
    "* Can't Contain Mutable data types (set is mutable but can't contain mutable items only immutable items are present in it, means 2d set is not possible)"
   ]
  },
  {
   "cell_type": "markdown",
   "id": "539ba14b-6a1f-422e-8662-47689e743a65",
   "metadata": {},
   "source": [
    "# 1. Creating Sets"
   ]
  },
  {
   "cell_type": "code",
   "execution_count": 9,
   "id": "277493b9-e7b0-43fc-b170-ac9321f47ba2",
   "metadata": {},
   "outputs": [
    {
     "name": "stdout",
     "output_type": "stream",
     "text": [
      "set()\n",
      "<class 'set'>\n",
      "{1, 2, 3}\n",
      "{1, (1, 2, 3), 4.5, 'hello'}\n"
     ]
    }
   ],
   "source": [
    "# Empty set\n",
    "\n",
    "s = set()\n",
    "print(s)\n",
    "print(type(s))\n",
    "\n",
    "# 1D set\n",
    "\n",
    "s1 = {1,2,3}\n",
    "print(s1)\n",
    "\n",
    "#2d Set not possible charterstic no 4.\n",
    "# s2 = {1,2,3,{4,5}}\n",
    "# print(s2)\n",
    "\n",
    "# Hetro \n",
    "s3 = {1,\"hello\", 4.5,(1,2,3),True}\n",
    "print(s3)\n",
    "# becasue python treat True as 1 and duplicate not allow in set\n",
    "\n",
    "\n"
   ]
  },
  {
   "cell_type": "markdown",
   "id": "98dd28a0-b8ef-40b0-8d71-c5f73e999077",
   "metadata": {},
   "source": [
    "Type conversion"
   ]
  },
  {
   "cell_type": "code",
   "execution_count": 12,
   "id": "ce0b7ad6-bca1-4996-bf8c-b92e37adffff",
   "metadata": {},
   "outputs": [
    {
     "name": "stdout",
     "output_type": "stream",
     "text": [
      "{1, 2, 3}\n"
     ]
    }
   ],
   "source": [
    "s4 = set([1,2,3])\n",
    "print(s4)\n",
    "\n"
   ]
  },
  {
   "cell_type": "markdown",
   "id": "838943bb-37c0-42e1-b30b-08d2d6706bc7",
   "metadata": {},
   "source": [
    "set can't have mutable items in it It will Throw EROOR\n"
   ]
  },
  {
   "cell_type": "code",
   "execution_count": 15,
   "id": "7f75323d-e1f6-43c0-99f2-48c8212d9bf6",
   "metadata": {},
   "outputs": [],
   "source": [
    "# List is mutable\n",
    "\n",
    "s5 = {1,2,[3,4]}\n",
    "print(s5)\n",
    "\n"
   ]
  },
  {
   "cell_type": "code",
   "execution_count": 16,
   "id": "6aaed191-d3af-4546-9add-0f7e850786e5",
   "metadata": {},
   "outputs": [
    {
     "name": "stdout",
     "output_type": "stream",
     "text": [
      "{3, 1, (4, 5), 2}\n"
     ]
    }
   ],
   "source": [
    "# it can have tuple because tuple is immutable\n",
    "\n",
    "s6 = {1,2,3,(4,5)}\n",
    "print(s6)"
   ]
  },
  {
   "cell_type": "markdown",
   "id": "38980600-2a0b-4722-b86b-9fbca540d876",
   "metadata": {},
   "source": [
    "# 2. Accesing Items\n",
    "Accesing item doesn't work!!!\n",
    "\n",
    "\n",
    "Can't Acces item through Indexing not Slicing, It's Unchangable "
   ]
  },
  {
   "cell_type": "code",
   "execution_count": 17,
   "id": "594de72b-d5f7-43a5-bba3-4840c0e10c6c",
   "metadata": {},
   "outputs": [],
   "source": [
    "# s1 = {1,2,3,4}\n",
    "# s1[0]\n",
    "\n",
    "# It will Throw ERROR"
   ]
  },
  {
   "cell_type": "markdown",
   "id": "a5909feb-7433-43df-b35f-88b2593829af",
   "metadata": {},
   "source": [
    "# 3. Editing Items\n",
    "\n",
    "Not allowed"
   ]
  },
  {
   "cell_type": "code",
   "execution_count": 18,
   "id": "edb45faf-2a06-4237-9f9d-3367f9eb3b41",
   "metadata": {},
   "outputs": [],
   "source": [
    "# s1 = {1,2,3,4}\n",
    "# s1[0] = 100\n",
    "\n",
    "# IT will throw ERROR\n"
   ]
  },
  {
   "cell_type": "markdown",
   "id": "0838e3d7-a49a-4818-a091-25a4e414988c",
   "metadata": {},
   "source": [
    "# 4.  Adding Items"
   ]
  },
  {
   "cell_type": "code",
   "execution_count": 20,
   "id": "d522d73d-cc74-4a6c-8176-b1be2d272322",
   "metadata": {},
   "outputs": [
    {
     "name": "stdout",
     "output_type": "stream",
     "text": [
      "{1, 2, 3, 4, 5}\n"
     ]
    }
   ],
   "source": [
    "S = {1,2,3,4}\n",
    "\n",
    "# add\n",
    "\n",
    "S.add(5)\n",
    "print(S)\n",
    "\n"
   ]
  },
  {
   "cell_type": "code",
   "execution_count": 21,
   "id": "252e33a6-feb4-4c52-a8bf-11bff434bc79",
   "metadata": {},
   "outputs": [
    {
     "name": "stdout",
     "output_type": "stream",
     "text": [
      "{1, 2, 3, 4, 5, 6, 7, 8}\n"
     ]
    }
   ],
   "source": [
    "# UPdate can have muti items at one time\n",
    "\n",
    "S.update([5,6,7,8])\n",
    "print(S)"
   ]
  },
  {
   "cell_type": "markdown",
   "id": "ee7d2f47-4e5b-4cd3-9e85-d56a347c5997",
   "metadata": {},
   "source": [
    "# 5. Deleting ITems\n",
    "\n",
    "* Delete\n",
    "* Discard\n",
    "* REmove\n",
    "* Pop     (it removes random item from set)\n",
    "* Clear   (clear whole item and return empty set)\n",
    "\n",
    "* diff in discard and remove is Discard doesn't throw error if you try to discard a item not exist and remove throws error"
   ]
  },
  {
   "cell_type": "code",
   "execution_count": 33,
   "id": "6f8dd83e-676a-4897-9bc8-4a6113d8ec3a",
   "metadata": {},
   "outputs": [],
   "source": [
    "# Del\n",
    "# can delete whole set\n",
    "\n",
    "s = {12,2,3,4,5,6}\n",
    "# print(s)\n",
    "# del s\n",
    "# print(s)\n",
    "\n"
   ]
  },
  {
   "cell_type": "markdown",
   "id": "4bda837a-ffe1-43d4-a075-64b19e5606bd",
   "metadata": {},
   "source": [
    "Discard\n",
    "\n"
   ]
  },
  {
   "cell_type": "code",
   "execution_count": 34,
   "id": "dc0a7b2c-a644-433a-bee9-a98f8676260a",
   "metadata": {},
   "outputs": [
    {
     "name": "stdout",
     "output_type": "stream",
     "text": [
      "{2, 3, 4, 6, 12}\n"
     ]
    }
   ],
   "source": [
    "s.discard(5)\n",
    "print(s)"
   ]
  },
  {
   "cell_type": "markdown",
   "id": "e314627e-46aa-49a3-a086-292583a1196f",
   "metadata": {},
   "source": [
    "Remove"
   ]
  },
  {
   "cell_type": "code",
   "execution_count": 35,
   "id": "91b8a601-4f15-4532-866c-c99242479482",
   "metadata": {},
   "outputs": [
    {
     "name": "stdout",
     "output_type": "stream",
     "text": [
      "{2, 3, 4, 6}\n"
     ]
    }
   ],
   "source": [
    "s.remove(12)\n",
    "print(s)"
   ]
  },
  {
   "cell_type": "markdown",
   "id": "18451e65-28c5-4f8c-85ba-24799bec2251",
   "metadata": {},
   "source": [
    "POP"
   ]
  },
  {
   "cell_type": "code",
   "execution_count": 36,
   "id": "095a80f3-d865-4fe8-963a-3045dcd96626",
   "metadata": {},
   "outputs": [
    {
     "data": {
      "text/plain": [
       "2"
      ]
     },
     "execution_count": 36,
     "metadata": {},
     "output_type": "execute_result"
    }
   ],
   "source": [
    "s.pop()"
   ]
  },
  {
   "cell_type": "code",
   "execution_count": 37,
   "id": "6c3a5855-7d8e-4d66-af94-a6f68eec78e1",
   "metadata": {},
   "outputs": [
    {
     "name": "stdout",
     "output_type": "stream",
     "text": [
      "set()\n"
     ]
    }
   ],
   "source": [
    "s.clear()\n",
    "print(s)"
   ]
  },
  {
   "cell_type": "markdown",
   "id": "8d1fd157-0f85-414f-9843-4ea25eb82f8f",
   "metadata": {},
   "source": [
    "# 6. Set Operation\n",
    "\n",
    "* Union\n",
    "* INtersection\n",
    "* Differencce\n",
    "* Symmetric Difference\n",
    "* Membership Test\n",
    "* Iteration\n",
    "  "
   ]
  },
  {
   "cell_type": "code",
   "execution_count": 44,
   "id": "175d927a-a928-4f95-ba6f-7f351f608dc0",
   "metadata": {},
   "outputs": [
    {
     "name": "stdout",
     "output_type": "stream",
     "text": [
      "1\n",
      "2\n",
      "3\n",
      "4\n",
      "5\n"
     ]
    }
   ],
   "source": [
    "S1 = {1,2,3,4,5}\n",
    "S2 = {4,5,6,7,8}\n",
    "\n",
    "# Union\n",
    "S1 | S2\n",
    "\n",
    "# Intersection (common item print)\n",
    "\n",
    "S1 & S2\n",
    "\n",
    "\n",
    "# Differnece( S1 item not present in S2)\n",
    "\n",
    "S1-S2\n",
    " \n",
    "# Symmetric difference(^) (common will not print)\n",
    "\n",
    "S1 ^ S2\n",
    "\n",
    "# Membership Test\n",
    "4 in S1\n",
    "\n",
    "\n",
    "# Iteration\n",
    "\n",
    "for i in S1:\n",
    "    print(i)"
   ]
  },
  {
   "cell_type": "markdown",
   "id": "cda4aa77-19cf-4617-b4db-6373a55a7b9e",
   "metadata": {},
   "source": [
    "# 7. Set Functions"
   ]
  },
  {
   "cell_type": "markdown",
   "id": "94d6cd03-2edb-45da-8f68-73062208f180",
   "metadata": {},
   "source": [
    "len/ sum/ min/max/sorted"
   ]
  },
  {
   "cell_type": "code",
   "execution_count": 47,
   "id": "ea767fcf-fc99-49c6-b20f-8e57765b2231",
   "metadata": {},
   "outputs": [
    {
     "data": {
      "text/plain": [
       "[7, 5, 4, 3, 2, 1]"
      ]
     },
     "execution_count": 47,
     "metadata": {},
     "output_type": "execute_result"
    }
   ],
   "source": [
    "S = {3,1,4,5,2,7}\n",
    "\n",
    "len(S)\n",
    "sum(S)\n",
    "min(S)\n",
    "max(S)\n",
    "sorted(S)\n",
    "sorted(S,reverse  = True)"
   ]
  },
  {
   "cell_type": "markdown",
   "id": "3beac084-52e6-456a-99f5-7c39b8f3fa60",
   "metadata": {},
   "source": [
    "Union/Update"
   ]
  },
  {
   "cell_type": "code",
   "execution_count": 50,
   "id": "6d3b2a3f-2c7d-4667-bbe4-8a1bc76316ae",
   "metadata": {},
   "outputs": [
    {
     "name": "stdout",
     "output_type": "stream",
     "text": [
      "{1, 2, 3, 4, 5, 6, 7, 8}\n",
      "{4, 5, 6, 7, 8}\n"
     ]
    }
   ],
   "source": [
    "S1 = {1,2,3,4,5}\n",
    "S2 = {4,5,6,7,8}\n",
    "\n",
    "# S1 | S2\n",
    "S1.union(S1)\n",
    "\n",
    "\n",
    "# update\n",
    "\n",
    "S1.update(S2)\n",
    "print(S1)\n",
    "print(S2)"
   ]
  },
  {
   "cell_type": "markdown",
   "id": "7290124e-5255-4ae4-87fa-7d54e9436d3d",
   "metadata": {},
   "source": [
    "Intersection/ Intersection update"
   ]
  },
  {
   "cell_type": "code",
   "execution_count": 53,
   "id": "0b28ef63-117c-47eb-ac53-d98aec570cce",
   "metadata": {},
   "outputs": [
    {
     "name": "stdout",
     "output_type": "stream",
     "text": [
      "{4, 5}\n",
      "{4, 5, 6, 7, 8}\n"
     ]
    }
   ],
   "source": [
    "S1 = {1,2,3,4,5}\n",
    "S2 = {4,5,6,7,8}\n",
    "\n",
    "S1.intersection(S2)\n",
    "\n",
    "S1.intersection_update(S2)\n",
    "print(S1)\n",
    "print(S2)"
   ]
  },
  {
   "cell_type": "markdown",
   "id": "030d831b-e91e-45d9-8d6c-4249b0d00418",
   "metadata": {},
   "source": [
    "Difference/Difference_update"
   ]
  },
  {
   "cell_type": "code",
   "execution_count": 54,
   "id": "e29bb974-6cf1-48a5-9707-a9e7d620fa75",
   "metadata": {},
   "outputs": [
    {
     "name": "stdout",
     "output_type": "stream",
     "text": [
      "{1, 2, 3}\n",
      "{4, 5, 6, 7, 8}\n"
     ]
    }
   ],
   "source": [
    "S1 = {1,2,3,4,5}\n",
    "S2 = {4,5,6,7,8}\n",
    "\n",
    "S1.difference(S2)\n",
    "\n",
    "S1.difference_update(S2)\n",
    "print(S1)\n",
    "print(S2)"
   ]
  },
  {
   "cell_type": "markdown",
   "id": "0f7b0139-cd60-4707-a6e0-5683be77b85b",
   "metadata": {},
   "source": [
    "Symmetric_difference/ Symmetric_difference_update"
   ]
  },
  {
   "cell_type": "code",
   "execution_count": 56,
   "id": "f9d58919-7d48-4384-ba63-4e1a401ee25c",
   "metadata": {},
   "outputs": [
    {
     "name": "stdout",
     "output_type": "stream",
     "text": [
      "{1, 2, 3, 6, 7, 8}\n",
      "{4, 5, 6, 7, 8}\n"
     ]
    }
   ],
   "source": [
    "S1 = {1,2,3,4,5}\n",
    "S2 = {4,5,6,7,8}\n",
    "\n",
    "S1.symmetric_difference(S2)\n",
    "\n",
    "S1.symmetric_difference_update(S2)\n",
    "print(S1)\n",
    "print(S2)"
   ]
  },
  {
   "cell_type": "markdown",
   "id": "49c95d8c-7ebf-41ea-8bf6-57a477fbc757",
   "metadata": {},
   "source": [
    "# More 4 Functions"
   ]
  },
  {
   "cell_type": "markdown",
   "id": "2d16e6a8-6dc5-4aa4-97ee-dc29c5f3c8c8",
   "metadata": {},
   "source": [
    "1. isdisjoint\n",
    "\n",
    " mathematically disjoint set are those in which none of item are common"
   ]
  },
  {
   "cell_type": "code",
   "execution_count": 57,
   "id": "393019c8-4f3f-4333-8db1-6abde9f523dc",
   "metadata": {},
   "outputs": [
    {
     "data": {
      "text/plain": [
       "False"
      ]
     },
     "execution_count": 57,
     "metadata": {},
     "output_type": "execute_result"
    }
   ],
   "source": [
    "S1 = {1,2,3,4}\n",
    "S2 = {3,4,5,6}\n",
    "\n",
    "S1.isdisjoint(S2)"
   ]
  },
  {
   "cell_type": "markdown",
   "id": "7ae89890-0fa4-41b1-b0db-80e234411d0b",
   "metadata": {},
   "source": [
    "2. issubset"
   ]
  },
  {
   "cell_type": "code",
   "execution_count": 58,
   "id": "c2a70994-c3db-4ca3-9598-3edce0e5f631",
   "metadata": {},
   "outputs": [
    {
     "data": {
      "text/plain": [
       "True"
      ]
     },
     "execution_count": 58,
     "metadata": {},
     "output_type": "execute_result"
    }
   ],
   "source": [
    "S1 = {1,2,3,4,5}\n",
    "S2 = {3,4,5}\n",
    "\n",
    "S2.issubset(S1)\n",
    "\n",
    "# because S1 is subset of S2"
   ]
  },
  {
   "cell_type": "markdown",
   "id": "8ef91e1d-4ff8-4e7a-aef0-ebfb2cb3525b",
   "metadata": {},
   "source": [
    "3. Superset"
   ]
  },
  {
   "cell_type": "code",
   "execution_count": 59,
   "id": "353b416d-379a-4b80-8e2e-b33fde27e4ad",
   "metadata": {},
   "outputs": [
    {
     "data": {
      "text/plain": [
       "True"
      ]
     },
     "execution_count": 59,
     "metadata": {},
     "output_type": "execute_result"
    }
   ],
   "source": [
    "S1 = {1,2,3,4,5}\n",
    "S2 = {3,4,5}\n",
    "\n",
    "S1.issuperset(S2)\n",
    "\n",
    "# because S2 is superset of S1"
   ]
  },
  {
   "cell_type": "markdown",
   "id": "059868ed-8f6f-45f2-9130-93781197a275",
   "metadata": {},
   "source": [
    "4. Copy"
   ]
  },
  {
   "cell_type": "code",
   "execution_count": 60,
   "id": "e3838e4a-1cc4-4428-bb1a-cffd57765222",
   "metadata": {},
   "outputs": [
    {
     "name": "stdout",
     "output_type": "stream",
     "text": [
      "{1, 2, 3}\n",
      "{1, 2, 3}\n"
     ]
    }
   ],
   "source": [
    "S1 = {1,2,3}\n",
    "S2 = S1.copy()\n",
    "\n",
    "print(S1)\n",
    "print(S2)"
   ]
  },
  {
   "cell_type": "markdown",
   "id": "1324403b-56dc-4b6e-9f02-79c276bded1b",
   "metadata": {},
   "source": [
    "# Frozen Set"
   ]
  },
  {
   "cell_type": "markdown",
   "id": "c1f79086-4853-4be1-a67a-af9850108d78",
   "metadata": {},
   "source": [
    "Frozen set is just an immutable version of a Python set Object"
   ]
  },
  {
   "cell_type": "markdown",
   "id": "1a927928-e73c-4a29-b6b2-3ef170165bf0",
   "metadata": {},
   "source": [
    "Create frozen set"
   ]
  },
  {
   "cell_type": "code",
   "execution_count": 61,
   "id": "10ec7f29-a137-41c7-8ba8-e5976b99d37f",
   "metadata": {},
   "outputs": [
    {
     "name": "stdout",
     "output_type": "stream",
     "text": [
      "frozenset({1, 2, 3})\n"
     ]
    }
   ],
   "source": [
    "# frozen set\n",
    "\n",
    "fs = frozenset([1,2,3])\n",
    "print(fs)"
   ]
  },
  {
   "cell_type": "markdown",
   "id": "29f981e0-10e7-463b-a378-26c642f13873",
   "metadata": {},
   "source": [
    "what works in frozen set and what not\n",
    "\n",
    "Works all Read functions like union, intersection etc\n",
    "\n",
    "Doesn't wokr Write functions like Update, REmove, Delete"
   ]
  },
  {
   "cell_type": "markdown",
   "id": "e7279d86-cf2a-4e39-9c23-ab3f914c3936",
   "metadata": {},
   "source": [
    "When to use?\n",
    "\n",
    "When you create Read only operation programe use frozen set\n",
    "\n",
    "\n"
   ]
  },
  {
   "cell_type": "code",
   "execution_count": 63,
   "id": "611b7eb1-c8ca-422a-ab7b-fc7de671dbcc",
   "metadata": {},
   "outputs": [
    {
     "data": {
      "text/plain": [
       "frozenset({1, 2, frozenset({3, 4})})"
      ]
     },
     "execution_count": 63,
     "metadata": {},
     "output_type": "execute_result"
    }
   ],
   "source": [
    "# 2d Frozenset\n",
    "\n",
    "fs = frozenset([1,2,frozenset([3,4])])\n",
    "fs"
   ]
  },
  {
   "cell_type": "markdown",
   "id": "b3c4adc5-fcdc-407f-8431-26f615e5c74e",
   "metadata": {},
   "source": [
    "# Set Comprehension"
   ]
  },
  {
   "cell_type": "code",
   "execution_count": 66,
   "id": "d12189d2-36b5-40b7-8899-aab0f6995ec0",
   "metadata": {},
   "outputs": [
    {
     "data": {
      "text/plain": [
       "{6, 7, 8, 9, 10}"
      ]
     },
     "execution_count": 66,
     "metadata": {},
     "output_type": "execute_result"
    }
   ],
   "source": [
    "# create set 1 - 10\n",
    "\n",
    "{i for i in range(1,11) if i > 5}\n"
   ]
  },
  {
   "cell_type": "code",
   "execution_count": null,
   "id": "e54222b9-bf7f-488e-b6c2-a895c91d5644",
   "metadata": {},
   "outputs": [],
   "source": []
  }
 ],
 "metadata": {
  "kernelspec": {
   "display_name": "Python 3 (ipykernel)",
   "language": "python",
   "name": "python3"
  },
  "language_info": {
   "codemirror_mode": {
    "name": "ipython",
    "version": 3
   },
   "file_extension": ".py",
   "mimetype": "text/x-python",
   "name": "python",
   "nbconvert_exporter": "python",
   "pygments_lexer": "ipython3",
   "version": "3.11.7"
  }
 },
 "nbformat": 4,
 "nbformat_minor": 5
}
