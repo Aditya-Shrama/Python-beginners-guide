{
 "cells": [
  {
   "cell_type": "markdown",
   "id": "2b245de6-8da2-4a5a-9467-18625576e3b5",
   "metadata": {},
   "source": [
    "# Dictionary\n",
    "\n",
    "Dictionary in Python is a collection of keys values, used to store date values like a map, which unlike other data types which hold only single value as an element.\n",
    "\n",
    "In some Language it's known as map or assosiative arrays.\n",
    "\n",
    "dict = {'name':'adi', 'age': 22, 'gender': 'male'}\n",
    "\n",
    "characterstics:\n",
    "\n",
    "* Mutable (indexing and slicing not allowed)\n",
    "* Indexing has no meaning\n",
    "* keys can't be duplicated\n",
    "* keys cant be mutable items\n"
   ]
  },
  {
   "cell_type": "markdown",
   "id": "b665637f-fcb1-4076-837d-2e5c7b120c4b",
   "metadata": {},
   "source": [
    "# 1. Create Dictionary"
   ]
  },
  {
   "cell_type": "code",
   "execution_count": 39,
   "id": "a97966c6-6616-4228-be8f-7007720af23a",
   "metadata": {
    "scrolled": true
   },
   "outputs": [
    {
     "name": "stdout",
     "output_type": "stream",
     "text": [
      "{}\n",
      "{'name': 'adi', 'age': 22, 'gender': 'male'}\n",
      "{(1, 2, 3): 1, 'hello': 'world'}\n"
     ]
    },
    {
     "data": {
      "text/plain": [
       "{'name': 'adi',\n",
       " 'college': 'JNU',\n",
       " 'sem': 8,\n",
       " 'subjects': {'dsa': 80, 'english': 90, 'maths': 70}}"
      ]
     },
     "execution_count": 39,
     "metadata": {},
     "output_type": "execute_result"
    }
   ],
   "source": [
    "# empty dict\n",
    "\n",
    "d  = {}\n",
    "print(d)\n",
    "\n",
    "# one-D dict\n",
    "d1 = {'name': 'adi', 'age': 22, 'gender': 'male'}\n",
    "print(d1)\n",
    "\n",
    "# mixed dict\n",
    "d2 = {(1,2,3):1, \"hello\":\"world\"}\n",
    "print(d2)\n",
    "\n",
    "# 2-D dictionary\n",
    "\n",
    "S = {\n",
    "    \"name\":\"adi\",\n",
    "    \"college\":\"JNU\",\n",
    "    \"sem\":8,\n",
    "    \"subjects\":{\n",
    "        \"dsa\":80,\n",
    "        \"english\":90,\n",
    "        \"maths\":70\n",
    "    }\n",
    "}\n",
    "\n",
    "S\n"
   ]
  },
  {
   "cell_type": "code",
   "execution_count": 2,
   "id": "1a7b40a5-5fa3-4565-b3c2-1df3a38044e6",
   "metadata": {},
   "outputs": [],
   "source": [
    "# using sequance and dict function\n",
    "\n",
    "d4 = dict([(1,1),(2,2),(3,3)])\n",
    "d4\n",
    "\n",
    "# duplicate keys\n",
    "\n",
    "d5 = {'name':'adi','name':'rahul'}\n",
    "d5\n",
    "\n",
    "# mutable items as keys (which are not allowed will throw ERROR)\n",
    "\n",
    "# d6 = {'name':'adi',[2,3,4]:6}\n",
    "\n",
    "# instead tuple will work as follow\n",
    "d6 = {'name':'adi',(2,3,4):6}\n"
   ]
  },
  {
   "cell_type": "code",
   "execution_count": 3,
   "id": "fcb6eb81-d976-4162-a954-b4536eb87379",
   "metadata": {},
   "outputs": [
    {
     "data": {
      "text/plain": [
       "{1: 1, 2: 2, 3: 3}"
      ]
     },
     "execution_count": 3,
     "metadata": {},
     "output_type": "execute_result"
    }
   ],
   "source": [
    "d4"
   ]
  },
  {
   "cell_type": "markdown",
   "id": "9778e953-9b58-4c6d-85f0-5e21c0406da0",
   "metadata": {},
   "source": [
    "# 2. Accesing Items\n",
    "\n",
    "* passing key\n",
    "* through using dict.get(key)"
   ]
  },
  {
   "cell_type": "code",
   "execution_count": 43,
   "id": "d6a59b91-6a4d-4f02-aca8-b8e315048ccc",
   "metadata": {},
   "outputs": [
    {
     "name": "stdout",
     "output_type": "stream",
     "text": [
      "{'name': 'adi', 'college': 'JNU', 'sem': 8, 'subjects': {'dsa': 80, 'english': 90, 'maths': 70}}\n"
     ]
    },
    {
     "data": {
      "text/plain": [
       "70"
      ]
     },
     "execution_count": 43,
     "metadata": {},
     "output_type": "execute_result"
    }
   ],
   "source": [
    "Dict = dict([('name','adi'),('age',22)])\n",
    "\n",
    "Dict['name']\n",
    "Dict.get('age')\n",
    "\n",
    "# for 2D \n",
    "print(S)\n",
    "S['subjects']['maths']"
   ]
  },
  {
   "cell_type": "markdown",
   "id": "d5f1a42e-1b1d-4af7-9971-315bf2ab13d2",
   "metadata": {},
   "source": [
    "# 3. Adding key-value Pair"
   ]
  },
  {
   "cell_type": "code",
   "execution_count": 46,
   "id": "b6ceb95c-ae48-4089-871c-e621a118ffa7",
   "metadata": {},
   "outputs": [
    {
     "name": "stdout",
     "output_type": "stream",
     "text": [
      "{'name': 'adi', 'college': 'JNU', 'sem': 8, 'subjects': {'dsa': 80, 'english': 90, 'maths': 70, 'ML': 89}}\n"
     ]
    }
   ],
   "source": [
    "d1['gender']  = 'male'\n",
    "d1\n",
    "\n",
    "d1['age'] = 23\n",
    "d1\n",
    "\n",
    "d1['weight'] = 67\n",
    "d1\n",
    "\n",
    "# for 2D Dict\n",
    "\n",
    "S['subjects']['ML'] = 89\n",
    "print(S)"
   ]
  },
  {
   "cell_type": "markdown",
   "id": "b02495f9-d02c-4307-9e6e-fd8d8bd97659",
   "metadata": {},
   "source": [
    "# 4. Remove Key-value Pair\n",
    "* pop\n",
    "* Popitem\n",
    "* del\n",
    "* clear"
   ]
  },
  {
   "cell_type": "code",
   "execution_count": 33,
   "id": "5cbbdfc2-e373-4d54-8918-16a70aa5af6d",
   "metadata": {},
   "outputs": [
    {
     "name": "stdout",
     "output_type": "stream",
     "text": [
      "{'name': 'adi', 'age': 23, 'gender': 'male', 'weight': 67}\n"
     ]
    }
   ],
   "source": [
    "d = {'name': 'adi', 'age': 23, 3:3,'gender': 'male', 'weight': 67}\n",
    "\n",
    "# POP\n",
    "d.pop(3)\n",
    "print(d)\n",
    "\n",
    "\n"
   ]
  },
  {
   "cell_type": "markdown",
   "id": "fbd9f5b9-ec2a-46a1-886f-7456f4633f42",
   "metadata": {},
   "source": [
    "* pop item- removes last key item\n"
   ]
  },
  {
   "cell_type": "code",
   "execution_count": 34,
   "id": "c357a4bc-9e97-4261-81d7-2b9b6c61eb29",
   "metadata": {},
   "outputs": [
    {
     "name": "stdout",
     "output_type": "stream",
     "text": [
      "{'name': 'adi', 'age': 23, 'gender': 'male'}\n"
     ]
    }
   ],
   "source": [
    "d.popitem()\n",
    "print(d)"
   ]
  },
  {
   "cell_type": "markdown",
   "id": "cd9baf48-b120-4b1a-b6f4-79a3d48dc76e",
   "metadata": {},
   "source": [
    "* Del"
   ]
  },
  {
   "cell_type": "code",
   "execution_count": 56,
   "id": "8c202c28-1178-4ef2-820c-97485aadce56",
   "metadata": {},
   "outputs": [
    {
     "name": "stdout",
     "output_type": "stream",
     "text": [
      "{'name': 'adi', 'college': 'JNU', 'sem': 8, 'subjects': {'dsa': 80, 'english': 90}}\n"
     ]
    }
   ],
   "source": [
    "d = {'name': 'adi', 'age': 23, 3:3,'gender': 'male', 'weight': 67}\n",
    "del d['name']\n",
    "print(d)\n",
    "\n",
    "S\n",
    "del S['subjects']['ML']\n",
    "print(S)"
   ]
  },
  {
   "cell_type": "markdown",
   "id": "04236669-377c-4ca7-ab67-e8d5049aec4d",
   "metadata": {},
   "source": [
    "* Clear"
   ]
  },
  {
   "cell_type": "code",
   "execution_count": 37,
   "id": "cd1eb7c6-53f4-4f1a-a4fb-f53b24ff50f8",
   "metadata": {},
   "outputs": [
    {
     "name": "stdout",
     "output_type": "stream",
     "text": [
      "{}\n"
     ]
    }
   ],
   "source": [
    "d.clear()\n",
    "print(d)"
   ]
  },
  {
   "cell_type": "markdown",
   "id": "fcb49693-d7c3-411b-a9c2-61d680eafd17",
   "metadata": {},
   "source": [
    "# 5. Editing key-value pair"
   ]
  },
  {
   "cell_type": "code",
   "execution_count": 59,
   "id": "978dd357-4b75-49d4-9aa8-a22707bcded4",
   "metadata": {},
   "outputs": [
    {
     "data": {
      "text/plain": [
       "{'name': 'adi',\n",
       " 'college': 'JNU',\n",
       " 'sem': 5,\n",
       " 'subjects': {'dsa': 30, 'english': 90}}"
      ]
     },
     "execution_count": 59,
     "metadata": {},
     "output_type": "execute_result"
    }
   ],
   "source": [
    "S['sem'] = 5\n",
    "S\n",
    "\n",
    "S['subjects']['dsa']  = 30\n",
    "S"
   ]
  },
  {
   "cell_type": "markdown",
   "id": "0f7b95da-6aeb-4757-991f-3fdb1104163a",
   "metadata": {},
   "source": [
    "# 6. Dictionary Opeations\n",
    "* Membership (works on keys not on Value)\n",
    "* Iteration\n"
   ]
  },
  {
   "cell_type": "code",
   "execution_count": 62,
   "id": "190c4b00-be99-466d-b71c-592b154cf3ec",
   "metadata": {},
   "outputs": [
    {
     "name": "stdout",
     "output_type": "stream",
     "text": [
      "{'name': 'adi', 'college': 'JNU', 'sem': 5, 'subjects': {'dsa': 30, 'english': 90}}\n"
     ]
    },
    {
     "data": {
      "text/plain": [
       "True"
      ]
     },
     "execution_count": 62,
     "metadata": {},
     "output_type": "execute_result"
    }
   ],
   "source": [
    "print(S)\n",
    "\n",
    "'name' in S"
   ]
  },
  {
   "cell_type": "code",
   "execution_count": 65,
   "id": "dd0262c7-5511-481e-95c2-b33853a23941",
   "metadata": {},
   "outputs": [
    {
     "name": "stdout",
     "output_type": "stream",
     "text": [
      "name\n",
      "gender\n",
      "age\n"
     ]
    }
   ],
   "source": [
    "D = {'name':'adi','gender': 'male', 'age':23}\n",
    "\n",
    "for i in D:\n",
    "    print(i)\n",
    "  # it gives only keys  "
   ]
  },
  {
   "cell_type": "code",
   "execution_count": 66,
   "id": "ced6e447-7cf5-4d44-921d-41c68f031e58",
   "metadata": {},
   "outputs": [
    {
     "name": "stdout",
     "output_type": "stream",
     "text": [
      "name adi\n",
      "gender male\n",
      "age 23\n"
     ]
    }
   ],
   "source": [
    "# TO print value\n",
    "\n",
    "for i in D:\n",
    "    print(i,D[i])"
   ]
  },
  {
   "cell_type": "markdown",
   "id": "0ce172fa-0c42-4938-b783-130b69d7497e",
   "metadata": {},
   "source": [
    "# 7. Dictionary Functions\n",
    "\n",
    "len/sorted/MIN/Max"
   ]
  },
  {
   "cell_type": "code",
   "execution_count": 74,
   "id": "6837166c-f9a2-47e6-af57-59293452eea2",
   "metadata": {},
   "outputs": [
    {
     "name": "stdout",
     "output_type": "stream",
     "text": [
      "3\n",
      "{'name': 'adi', 'gender': 'male', 'age': 23}\n",
      "name\n",
      "age\n"
     ]
    }
   ],
   "source": [
    "# len/sorted\n",
    "\n",
    "\n",
    "print(len(D))\n",
    "\n",
    "# sorted\n",
    "print(D)\n",
    "\n",
    "sorted(D,reverse = True)\n",
    "\n",
    "# Min/ Max\n",
    "\n",
    "print(max(D))\n",
    "print(min(D))"
   ]
  },
  {
   "cell_type": "markdown",
   "id": "6f938b19-c4f1-40cf-af62-e34febed82ca",
   "metadata": {},
   "source": [
    "* Items (shows dictionary into tuple\n",
    "*  keys  ( collect all the keys)\n",
    "*  values  (collect all the values)\n",
    "*  update (It updates the D1 and D1)"
   ]
  },
  {
   "cell_type": "code",
   "execution_count": 75,
   "id": "ff6e1994-8cfd-4811-a811-41fa4fa64511",
   "metadata": {},
   "outputs": [
    {
     "name": "stdout",
     "output_type": "stream",
     "text": [
      "dict_items([('name', 'adi'), ('gender', 'male'), ('age', 23)])\n"
     ]
    }
   ],
   "source": [
    "# items: shows dictionary into tuple\n",
    "\n",
    "print(D.items())"
   ]
  },
  {
   "cell_type": "code",
   "execution_count": null,
   "id": "d1608904-7872-45e9-a00c-7080887766f0",
   "metadata": {},
   "outputs": [],
   "source": [
    "# Keys"
   ]
  },
  {
   "cell_type": "code",
   "execution_count": 79,
   "id": "2d415e94-cc0b-4ca3-9469-9145fc41e08c",
   "metadata": {},
   "outputs": [
    {
     "name": "stdout",
     "output_type": "stream",
     "text": [
      "dict_keys(['name', 'gender', 'age'])\n"
     ]
    }
   ],
   "source": [
    "print(D.keys())"
   ]
  },
  {
   "cell_type": "code",
   "execution_count": null,
   "id": "d8089721-f4ea-4e9f-8b16-339d09158a11",
   "metadata": {},
   "outputs": [],
   "source": [
    "# values"
   ]
  },
  {
   "cell_type": "code",
   "execution_count": 78,
   "id": "b2c24df3-077a-4c07-bc73-f28553c598eb",
   "metadata": {},
   "outputs": [
    {
     "name": "stdout",
     "output_type": "stream",
     "text": [
      "dict_values(['adi', 'male', 23])\n"
     ]
    }
   ],
   "source": [
    "print(D.values())\n"
   ]
  },
  {
   "cell_type": "markdown",
   "id": "e835ad98-5c0d-46f0-8446-65d6dcd1cb92",
   "metadata": {},
   "source": [
    "* Update It updates the D1 and D1"
   ]
  },
  {
   "cell_type": "code",
   "execution_count": 80,
   "id": "97995ddc-ad50-4fec-aa74-e905829a5d46",
   "metadata": {},
   "outputs": [
    {
     "name": "stdout",
     "output_type": "stream",
     "text": [
      "{1: 2, 3: 4, 4: 7, 6: 8}\n"
     ]
    }
   ],
   "source": [
    "D1 = {1:2,3:4,4:5}\n",
    "D2 = {4:7,6:8}\n",
    "\n",
    "D1.update(D2)\n",
    "print(D1)"
   ]
  },
  {
   "cell_type": "markdown",
   "id": "4efc860e-2109-4eae-88be-2908cb2e421b",
   "metadata": {},
   "source": [
    "# 8. Dictionary Comprehension"
   ]
  },
  {
   "cell_type": "markdown",
   "id": "c68f977d-69f6-4fb1-a5e1-ba35b93904ab",
   "metadata": {},
   "source": [
    "{keys: value 'for' variable 'in' iterable}"
   ]
  },
  {
   "cell_type": "code",
   "execution_count": 81,
   "id": "17108090-8be6-43c2-9c30-e9a301c670f9",
   "metadata": {},
   "outputs": [
    {
     "data": {
      "text/plain": [
       "{1: 1, 2: 4, 3: 9, 4: 16, 5: 25, 6: 36, 7: 49, 8: 64, 9: 81, 10: 100}"
      ]
     },
     "execution_count": 81,
     "metadata": {},
     "output_type": "execute_result"
    }
   ],
   "source": [
    "# print the 1st 10 numbers and their squares\n",
    "\n",
    "\n",
    "\n",
    "{i:i**2 for i in range(1,11)}"
   ]
  },
  {
   "cell_type": "code",
   "execution_count": null,
   "id": "40034242-c820-4712-a3a9-3eabc4353e00",
   "metadata": {},
   "outputs": [],
   "source": []
  }
 ],
 "metadata": {
  "kernelspec": {
   "display_name": "Python 3 (ipykernel)",
   "language": "python",
   "name": "python3"
  },
  "language_info": {
   "codemirror_mode": {
    "name": "ipython",
    "version": 3
   },
   "file_extension": ".py",
   "mimetype": "text/x-python",
   "name": "python",
   "nbconvert_exporter": "python",
   "pygments_lexer": "ipython3",
   "version": "3.11.7"
  }
 },
 "nbformat": 4,
 "nbformat_minor": 5
}
