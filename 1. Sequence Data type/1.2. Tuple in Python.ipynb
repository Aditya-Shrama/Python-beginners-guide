{
 "cells": [
  {
   "cell_type": "markdown",
   "id": "3ad256c1-e54f-4362-a4c0-45e31279d9b0",
   "metadata": {},
   "source": [
    "A Tuple in python is similar to list. The difference b\\w the two is we cannot change the element of tuple once its assigned wheras we can change the element of a list.\n",
    "\n",
    "Its immutable just like string, and List is Mutable.\n",
    "\n",
    "Characterstics\n",
    "\n",
    "1. Ordered\n",
    "2. Unchangeble\n",
    "3. Allows duplicate"
   ]
  },
  {
   "cell_type": "markdown",
   "id": "a6009c9d-88af-4476-9089-29cf0cb4d5dd",
   "metadata": {},
   "source": [
    "**Plan of Action:"
   ]
  },
  {
   "cell_type": "markdown",
   "id": "79f4873e-e9f1-4d61-b40e-440bcccdb506",
   "metadata": {},
   "source": [
    "1. Create a tuple\n",
    "\n",
    "2. accesing items\n",
    "\n",
    "3. editing itmes (Immutable thus cant edit item)\n",
    "\n",
    "4. adding items (Immutable, not possible)\n",
    "\n",
    "5. deleting items\n",
    "\n",
    "6. operations on Tuple\n",
    "\n",
    "7. TUple functions\n",
    "\n",
    "8. Difference b/w List and Tuple"
   ]
  },
  {
   "cell_type": "markdown",
   "id": "28dfa8f8-4328-4920-a9bf-4a7a0f32e266",
   "metadata": {},
   "source": [
    "# 1. Creating tuple"
   ]
  },
  {
   "cell_type": "code",
   "execution_count": 2,
   "id": "621a225a-0097-41fc-99d9-ad4fdb3bfe28",
   "metadata": {},
   "outputs": [
    {
     "name": "stdout",
     "output_type": "stream",
     "text": [
      "()\n",
      "('hello',)\n"
     ]
    }
   ],
   "source": [
    "# empty\n",
    "\n",
    "t1 = ()\n",
    "print(t1)\n",
    "\n",
    "# create a tuple with a single item\n",
    "\n",
    "t2 = (\"hello\",)\n",
    "print(t2)"
   ]
  },
  {
   "cell_type": "code",
   "execution_count": 9,
   "id": "bc3ab200-c0e4-40f0-bf38-9f10a9f790cb",
   "metadata": {},
   "outputs": [
    {
     "name": "stdout",
     "output_type": "stream",
     "text": [
      "(1, 2, 3, 4)\n",
      "(1, 'hello', 3.4, True)\n",
      "(1, 2, 3, (4, 5))\n",
      "('h', 'e', 'l', 'l', 'o')\n"
     ]
    }
   ],
   "source": [
    "# Homo tuple\n",
    "\n",
    "t3 = (1,2,3,4)\n",
    "print(t3)\n",
    "\n",
    "# Hetro tuple\n",
    "\n",
    "t4 = (1,\"hello\", 3.4, True)\n",
    "print(t4)\n",
    "\n",
    "# 2D tuple\n",
    "\n",
    "t5 = (1,2,3,(4,5))\n",
    "print(t5)\n",
    "\n",
    "# using type conversion\n",
    "\n",
    "t6 = tuple(\"hello\")\n",
    "print(t6)"
   ]
  },
  {
   "cell_type": "markdown",
   "id": "bd757fb5-268a-46de-bdbf-3b76d2546a75",
   "metadata": {},
   "source": [
    "# 2. Accesing item\n",
    "\n",
    "Indexing\n",
    "\n",
    "Slicing"
   ]
  },
  {
   "cell_type": "code",
   "execution_count": 13,
   "id": "0ebe83b7-855b-4af1-958a-b523221eb4b1",
   "metadata": {},
   "outputs": [
    {
     "name": "stdout",
     "output_type": "stream",
     "text": [
      "(1, 2, 3, 4)\n",
      "1\n"
     ]
    }
   ],
   "source": [
    "# Indexing\n",
    "print(t3)\n",
    "\n",
    "print(t3[0])\n"
   ]
  },
  {
   "cell_type": "code",
   "execution_count": 23,
   "id": "2b2cafac-ccde-4dc0-beac-0c7e435127ed",
   "metadata": {},
   "outputs": [
    {
     "name": "stdout",
     "output_type": "stream",
     "text": [
      "(1, 2, 3, 4)\n",
      "(1, 3)\n",
      "(2, 3)\n",
      "(4, 3, 2, 1)\n"
     ]
    }
   ],
   "source": [
    "# slicing\n",
    "\n",
    "print(t3[0:4])\n",
    "\n",
    "print(t3[0:4:2 ])\n",
    "\n",
    "print(t3[-3:-1])\n",
    "\n",
    "print(t3[::-1])"
   ]
  },
  {
   "cell_type": "code",
   "execution_count": 63,
   "id": "f9bc9630-46dd-4bc8-973f-b11e1f647296",
   "metadata": {},
   "outputs": [
    {
     "name": "stdout",
     "output_type": "stream",
     "text": [
      "(2, 3, 4, 5, 6, 7, 8, 9, 10)\n",
      "(5, 6, 7, 8, 9, 10)\n",
      "(4, 5, 6, 7, 8, 9)\n",
      "(4, 5, 6, 7, 8, 9)\n",
      "(10, 9, 8, 7, 6, 5, 4, 3, 2, 1)\n",
      "(10, 9, 8, 7, 6, 5)\n",
      "(10, 9, 8, 7, 6, 5)\n",
      "(2, 4, 6, 8, 10)\n",
      "(1, 3, 5, 7, 9)\n",
      "(1, 3, 5, 7, 9)\n"
     ]
    }
   ],
   "source": [
    "# Tuple slicing practice\n",
    "\n",
    "t1 = (1,2,3,4,5,6,7,8,9,10)\n",
    "\n",
    "# extract 2-10\n",
    "print(t1[1:])\n",
    "\n",
    "# extract 5-10\n",
    "\n",
    "print(t1[-6:])\n",
    "\n",
    "# extract 4-9\n",
    "print(t1[3:9])\n",
    "\n",
    "# extract 4-9 negetive\n",
    "\n",
    "print(t1[-7:-1])\n",
    "\n",
    "# reverse a tuple\n",
    "\n",
    "print(t1[::-1])\n",
    "\n",
    "# 10 - 5 \n",
    "\n",
    "print(t1[4:10][::-1])\n",
    "# or\n",
    "\n",
    "print(t1[-1:-7:-1])\n",
    "\n",
    "# even\n",
    "print(t1[1::2])\n",
    "\n",
    "# odd\n",
    "print(t1[-10:-1:2])\n",
    "# or\n",
    "print(t1[0::2])"
   ]
  },
  {
   "cell_type": "code",
   "execution_count": 48,
   "id": "2906e831-ded9-4bf6-9295-d4c02e3e37fd",
   "metadata": {},
   "outputs": [
    {
     "name": "stdout",
     "output_type": "stream",
     "text": [
      "(1, 2, 3, (4, 5))\n",
      "4\n"
     ]
    }
   ],
   "source": [
    "# accesing 2d array\n",
    "\n",
    "print(t5)\n",
    "\n",
    "print(t5[3][0])"
   ]
  },
  {
   "cell_type": "markdown",
   "id": "309c1a1e-5d15-4424-aa0d-45c325227a9e",
   "metadata": {},
   "source": [
    "# 3. Editing Items\n",
    "\n",
    "Tuples are Immutable hence error"
   ]
  },
  {
   "cell_type": "code",
   "execution_count": 50,
   "id": "6faa7f4a-e1b1-499e-aaf2-ad0448f1bb43",
   "metadata": {},
   "outputs": [
    {
     "name": "stdout",
     "output_type": "stream",
     "text": [
      "(1, 2, 3, 4)\n"
     ]
    },
    {
     "ename": "TypeError",
     "evalue": "'tuple' object does not support item assignment",
     "output_type": "error",
     "traceback": [
      "\u001b[1;31m---------------------------------------------------------------------------\u001b[0m",
      "\u001b[1;31mTypeError\u001b[0m                                 Traceback (most recent call last)",
      "Cell \u001b[1;32mIn[50], line 3\u001b[0m\n\u001b[0;32m      1\u001b[0m \u001b[38;5;28mprint\u001b[39m(t3)\n\u001b[1;32m----> 3\u001b[0m t3[\u001b[38;5;241m0\u001b[39m] \u001b[38;5;241m=\u001b[39m \u001b[38;5;241m100\u001b[39m\n",
      "\u001b[1;31mTypeError\u001b[0m: 'tuple' object does not support item assignment"
     ]
    }
   ],
   "source": [
    "print(t3)\n",
    "\n",
    "t3[0] = 100"
   ]
  },
  {
   "cell_type": "markdown",
   "id": "3cc67aea-96fb-4d4a-936f-19717c5c6803",
   "metadata": {},
   "source": [
    "# 4. Adding Items\n",
    "\n",
    "Immumtable not possible"
   ]
  },
  {
   "cell_type": "markdown",
   "id": "9a837702-290b-4be2-9f31-4b7b33dacd02",
   "metadata": {},
   "source": [
    "# 5. Deleting Items \n",
    "\n",
    "only whole tuple can delete,single item deletion are not possible due to its immutable"
   ]
  },
  {
   "cell_type": "code",
   "execution_count": 54,
   "id": "0cab6529-a347-4965-b9da-8a57d47e056d",
   "metadata": {},
   "outputs": [],
   "source": [
    "t2 = (1,2,3,4,5,6)\n",
    "print(t2)\n",
    "del t2\n",
    "print(t2)"
   ]
  },
  {
   "cell_type": "markdown",
   "id": "1a984190-921d-42a9-92b2-85fa7b90427b",
   "metadata": {},
   "source": [
    "Hence Tuple are Immutable it throw Errorm"
   ]
  },
  {
   "cell_type": "markdown",
   "id": "6aa150d2-c632-44db-8324-9901d6c5c28a",
   "metadata": {},
   "source": [
    "# 6. Operations on Tuple\n",
    "\n",
    "+ concatenation +\n",
    "* multiplication *\n",
    "* membership\n",
    "* iteration (loops)"
   ]
  },
  {
   "cell_type": "code",
   "execution_count": 70,
   "id": "32453867-ecb7-4720-9a0d-5c69899909f7",
   "metadata": {},
   "outputs": [
    {
     "name": "stdout",
     "output_type": "stream",
     "text": [
      "(1, 2, 3, 4, 5, 6, 7, 8)\n",
      "(1, 2, 3, 4, 1, 2, 3, 4, 1, 2, 3, 4)\n",
      "1\n",
      "2\n",
      "3\n",
      "4\n"
     ]
    }
   ],
   "source": [
    "# + and * \n",
    "\n",
    "t1 = (1,2,3,4)\n",
    "t2 = (5,6,7,8)\n",
    "\n",
    "print(t1+t2)\n",
    "\n",
    "# multiplication\n",
    "print(t1*3)\n",
    "\n",
    "# membership\n",
    "1 in t1\n",
    "\n",
    "# iteration\n",
    "for i in t1:\n",
    "    print(i)"
   ]
  },
  {
   "cell_type": "markdown",
   "id": "7d9e9b8a-4203-49d4-a217-d3ddb5bd795f",
   "metadata": {},
   "source": [
    "# 7. Tuple Functions"
   ]
  },
  {
   "cell_type": "markdown",
   "id": "af1664fb-aff0-4ea8-b7c3-353821cbe4f1",
   "metadata": {},
   "source": [
    "len/sum/min/max/sorted"
   ]
  },
  {
   "cell_type": "code",
   "execution_count": 74,
   "id": "ac2d116a-7f1b-4423-8d79-897af4c87779",
   "metadata": {},
   "outputs": [
    {
     "name": "stdout",
     "output_type": "stream",
     "text": [
      "5\n",
      "1\n",
      "5\n",
      "15\n",
      "[1, 2, 3, 4, 5]\n",
      "[5, 4, 3, 2, 1]\n"
     ]
    }
   ],
   "source": [
    "t = (1,2,3,4,5)\n",
    "\n",
    "print(len(t))\n",
    "\n",
    "print(min(t))\n",
    "\n",
    "print(max(t))\n",
    "\n",
    "print(sum(t))\n",
    "\n",
    "print(sorted(t))\n",
    "print(sorted(t,reverse= True))"
   ]
  },
  {
   "cell_type": "markdown",
   "id": "01c87956-1e4e-453a-99ad-843d9bf11d6e",
   "metadata": {},
   "source": [
    "Count"
   ]
  },
  {
   "cell_type": "code",
   "execution_count": 75,
   "id": "d56217b0-73bb-4a79-b428-1fad1d0586d4",
   "metadata": {},
   "outputs": [
    {
     "data": {
      "text/plain": [
       "1"
      ]
     },
     "execution_count": 75,
     "metadata": {},
     "output_type": "execute_result"
    }
   ],
   "source": [
    "t = (1,2,3,4,5)\n",
    "\n",
    "t.count(5)"
   ]
  },
  {
   "cell_type": "markdown",
   "id": "fa8ce4e4-70ad-4543-b0c1-4a95db8b2aee",
   "metadata": {},
   "source": [
    "index"
   ]
  },
  {
   "cell_type": "code",
   "execution_count": 76,
   "id": "74cb2352-5fd1-4963-a56c-8e6bfdb249c9",
   "metadata": {},
   "outputs": [
    {
     "data": {
      "text/plain": [
       "4"
      ]
     },
     "execution_count": 76,
     "metadata": {},
     "output_type": "execute_result"
    }
   ],
   "source": [
    "t.index(5)"
   ]
  },
  {
   "cell_type": "markdown",
   "id": "12faaf63-c2df-4638-95cc-c7a80fe56805",
   "metadata": {},
   "source": [
    "# 8. Difference b/w List and Tuple"
   ]
  },
  {
   "cell_type": "markdown",
   "id": "4a812fff-066e-4625-8379-a52bf9f2a410",
   "metadata": {},
   "source": [
    "* Syntax\n",
    "* Mutablity   (Tuple are Immutabe while list are Mutable)\n",
    "* Speed       ( TUple are faster beacaue of Immutable nature, below example)\n",
    "* Memory      (Tuple takes less memory while List take more Memory,below example)\n",
    "* Built in Functionality ( List has more)\n",
    "* Error prone (list is more error prone,below example)\n",
    "* Usablity    "
   ]
  },
  {
   "cell_type": "markdown",
   "id": "0d4c9d81-0421-4bfc-a485-85202d203956",
   "metadata": {},
   "source": [
    "# TO Check memory usage of tuple and list"
   ]
  },
  {
   "cell_type": "code",
   "execution_count": 78,
   "id": "a58c4c18-eb04-4efd-ad95-1988ab14f6bf",
   "metadata": {},
   "outputs": [
    {
     "name": "stdout",
     "output_type": "stream",
     "text": [
      "List size 8056\n",
      "Tuple size 8040\n"
     ]
    }
   ],
   "source": [
    "import sys\n",
    "L = list(range(1000))\n",
    "T = tuple(range(1000))\n",
    "\n",
    "print(\"List size\", sys.getsizeof(L))\n",
    "print(\"Tuple size\", sys.getsizeof(T))\n"
   ]
  },
  {
   "cell_type": "markdown",
   "id": "c21477dc-2f1a-4a41-af37-71f03aa7fc94",
   "metadata": {},
   "source": [
    "# TO Check the SPeed b/w tupple and List"
   ]
  },
  {
   "cell_type": "code",
   "execution_count": 85,
   "id": "8c1dc62f-b0ef-4429-ad33-ad16ca374750",
   "metadata": {},
   "outputs": [
    {
     "name": "stdout",
     "output_type": "stream",
     "text": [
      "List time 0.2977871894836426\n",
      "TUPLE TIME 0.14866876602172852\n"
     ]
    }
   ],
   "source": [
    "import time\n",
    "\n",
    "L = list(range(1000000))\n",
    "T = tuple(range(1000000))\n",
    "\n",
    "start = time.time()\n",
    "for i in L:\n",
    "    i*5\n",
    "print(\"List time\", time.time()-start)\n",
    "\n",
    "start = time.time()\n",
    "for i in T:\n",
    "    i*5\n",
    "print(\"TUPLE TIME\", time.time()-start)"
   ]
  },
  {
   "cell_type": "markdown",
   "id": "52d69057-01c3-4dfb-a5fd-856d93fe6ca1",
   "metadata": {},
   "source": [
    "#  Example of error prone in list  -->"
   ]
  },
  {
   "cell_type": "code",
   "execution_count": 86,
   "id": "077eb3b8-8ff6-465b-8cdc-4817f99eae26",
   "metadata": {},
   "outputs": [
    {
     "name": "stdout",
     "output_type": "stream",
     "text": [
      "[1, 2, 3, 4]\n",
      "[1, 2, 3, 4]\n"
     ]
    }
   ],
   "source": [
    "# for List\n",
    "\n",
    " a  = [1,2,3]\n",
    "\n",
    "b = a\n",
    "\n",
    "a.append(4)\n",
    "print(a)\n",
    "print(b)\n",
    "\n",
    "# changes occur in both while i changed the value of a only i.e List is Error prone "
   ]
  },
  {
   "cell_type": "markdown",
   "id": "2b987ffd-6b7d-4d8a-93dd-c5f59360f647",
   "metadata": {},
   "source": [
    "for Tuple"
   ]
  },
  {
   "cell_type": "code",
   "execution_count": 87,
   "id": "719d489c-2148-489f-96f9-1e620a2f00d7",
   "metadata": {},
   "outputs": [
    {
     "name": "stdout",
     "output_type": "stream",
     "text": [
      "(1, 2, 3, 4)\n",
      "(1, 2, 3)\n"
     ]
    }
   ],
   "source": [
    "a = (1,2,3)\n",
    "\n",
    "b = a\n",
    "\n",
    "a = a+(4,)\n",
    "print(a)\n",
    "print(b)\n"
   ]
  },
  {
   "cell_type": "markdown",
   "id": "13819fe0-214f-43ad-a89e-447d51fd8546",
   "metadata": {},
   "source": [
    "# Special syntax - Tuple unpacking"
   ]
  },
  {
   "cell_type": "code",
   "execution_count": 89,
   "id": "dd67718c-1a87-4b7d-ac69-1e0f4b20e5b8",
   "metadata": {},
   "outputs": [
    {
     "name": "stdout",
     "output_type": "stream",
     "text": [
      "1 2 3\n"
     ]
    }
   ],
   "source": [
    "a,b,c = (1,2,3)\n",
    "print(a,b,c)"
   ]
  },
  {
   "cell_type": "code",
   "execution_count": 92,
   "id": "f0ddf90e-cd60-4bad-a40f-d4ae262eab55",
   "metadata": {},
   "outputs": [
    {
     "name": "stdout",
     "output_type": "stream",
     "text": [
      "1 2 3\n"
     ]
    }
   ],
   "source": [
    "a,b = (1,2,3)\n",
    "print(a,b)\n",
    "\n",
    "# it will throw error it need equal variable to store values"
   ]
  },
  {
   "cell_type": "markdown",
   "id": "ed231f35-efb5-4352-8290-b8af68146393",
   "metadata": {},
   "source": [
    "# Tuple swaping`"
   ]
  },
  {
   "cell_type": "code",
   "execution_count": 93,
   "id": "6c2c49f0-9243-45e4-980b-27b3c58e4cb5",
   "metadata": {},
   "outputs": [
    {
     "name": "stdout",
     "output_type": "stream",
     "text": [
      "2 1\n"
     ]
    }
   ],
   "source": [
    "a = 1\n",
    "b = 2\n",
    "\n",
    "a,b = b,a\n",
    "\n",
    "print(a,b)"
   ]
  },
  {
   "cell_type": "code",
   "execution_count": 95,
   "id": "68e22756-6321-47aa-8939-3836995a150e",
   "metadata": {},
   "outputs": [
    {
     "name": "stdout",
     "output_type": "stream",
     "text": [
      "1 2\n",
      "[3, 4, 5, 6]\n"
     ]
    }
   ],
   "source": [
    "a,b,*others = (1,2,3,4,5,6)\n",
    "print(a,b)\n",
    "print(others)"
   ]
  },
  {
   "cell_type": "markdown",
   "id": "25f10059-45a9-4476-98fb-7cc34251172e",
   "metadata": {},
   "source": [
    "# Zipping in Tuple\n",
    "\n",
    "It Zip's the both item of list like following"
   ]
  },
  {
   "cell_type": "code",
   "execution_count": 96,
   "id": "a0db7fc0-d40d-4bf2-9625-2dc0cd6e5662",
   "metadata": {},
   "outputs": [
    {
     "data": {
      "text/plain": [
       "<zip at 0x1a57a41c440>"
      ]
     },
     "execution_count": 96,
     "metadata": {},
     "output_type": "execute_result"
    }
   ],
   "source": [
    "a = (1,2,3,4)\n",
    "b = (5,6,7,8)\n",
    "\n",
    "zip(a,b)"
   ]
  },
  {
   "cell_type": "markdown",
   "id": "f81e75d8-017e-4879-ac8f-879e8f830f74",
   "metadata": {},
   "source": [
    "hence it gives the zip object of a and b, wanna see it convert it into list or tuple"
   ]
  },
  {
   "cell_type": "code",
   "execution_count": 98,
   "id": "39bc8003-80ba-489d-adcc-f5c3971b7ab8",
   "metadata": {},
   "outputs": [
    {
     "data": {
      "text/plain": [
       "((1, 5), (2, 6), (3, 7), (4, 8))"
      ]
     },
     "execution_count": 98,
     "metadata": {},
     "output_type": "execute_result"
    }
   ],
   "source": [
    "tuple(zip(a,b))\n",
    "# list(zip(a,b))"
   ]
  },
  {
   "cell_type": "code",
   "execution_count": null,
   "id": "7320c9cb-27fd-487c-bdc2-0af48481273d",
   "metadata": {},
   "outputs": [],
   "source": []
  }
 ],
 "metadata": {
  "kernelspec": {
   "display_name": "Python 3 (ipykernel)",
   "language": "python",
   "name": "python3"
  },
  "language_info": {
   "codemirror_mode": {
    "name": "ipython",
    "version": 3
   },
   "file_extension": ".py",
   "mimetype": "text/x-python",
   "name": "python",
   "nbconvert_exporter": "python",
   "pygments_lexer": "ipython3",
   "version": "3.11.7"
  }
 },
 "nbformat": 4,
 "nbformat_minor": 5
}
