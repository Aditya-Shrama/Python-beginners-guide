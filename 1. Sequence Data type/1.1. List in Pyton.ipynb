{
 "cells": [
  {
   "cell_type": "markdown",
   "id": "6a50fb58-96e3-48d3-8227-f9bb21d64237",
   "metadata": {},
   "source": [
    "List : List is the collection of data, List items are ordered, Mutable and allow duplicate values. List Item are indexed. If you want to add item that will add at the Last of your List.\n",
    "\n",
    "By Mutable means: We can change, add, and remove items in a list after it has been created.\n",
    "\n",
    "When we say List items are ordered it means that the items have a defined orderm and that order will not change."
   ]
  },
  {
   "cell_type": "markdown",
   "id": "895036a2-4676-4028-85eb-3305db769950",
   "metadata": {},
   "source": [
    "# 1. Adding items to a list\n"
   ]
  },
  {
   "cell_type": "markdown",
   "id": "8f6fea8d-a995-45d1-b8dd-464f6431bbf9",
   "metadata": {},
   "source": [
    "1. Append"
   ]
  },
  {
   "cell_type": "code",
   "execution_count": 2,
   "id": "cf198213-06c6-40ef-a68e-12785954a7af",
   "metadata": {},
   "outputs": [
    {
     "name": "stdout",
     "output_type": "stream",
     "text": [
      "[1, 2, 3, 4, 5, True]\n"
     ]
    }
   ],
   "source": [
    "\n",
    "# 1. append\n",
    "\n",
    "L = [1,2,3,4,5]\n",
    "L.append(True)\n",
    "print(L)\n",
    "\n"
   ]
  },
  {
   "cell_type": "markdown",
   "id": "c7114391-62c2-4b5d-ae00-6a0f292ea6a7",
   "metadata": {},
   "source": [
    "2. Extend"
   ]
  },
  {
   "cell_type": "code",
   "execution_count": 3,
   "id": "d55743e5-1583-4bf1-857e-2f46928519bc",
   "metadata": {},
   "outputs": [
    {
     "name": "stdout",
     "output_type": "stream",
     "text": [
      "[1, 2, 3, 4, 5, 6, 7, 8]\n"
     ]
    }
   ],
   "source": [
    "# 2.  Exend\n",
    "# it adds multiple items\n",
    "\n",
    "L = [1,2,3,4,5]\n",
    "L.extend([6,7,8])\n",
    "print(L)"
   ]
  },
  {
   "cell_type": "code",
   "execution_count": 6,
   "id": "b827b2a8-7ea6-493c-9363-baecb732b002",
   "metadata": {},
   "outputs": [
    {
     "name": "stdout",
     "output_type": "stream",
     "text": [
      "[1, 2, 3, 4, 5, 'J', 'a', 'i', 'p', 'u', 'r']\n"
     ]
    }
   ],
   "source": [
    "# adding ONe items through Extend\n",
    "\n",
    "L = [1,2,3,4,5]\n",
    "L.extend(\"Jaipur\")\n",
    "print(L)\n",
    "\n"
   ]
  },
  {
   "cell_type": "markdown",
   "id": "7194739b-505b-4ee1-b53a-8c33d4ae00a7",
   "metadata": {},
   "source": [
    "hence EXTEND behaiour is to add multiple items so it treat jaipur as multiple item"
   ]
  },
  {
   "cell_type": "code",
   "execution_count": 4,
   "id": "5060ce99-f384-4968-9b53-1580d947fc7a",
   "metadata": {},
   "outputs": [
    {
     "name": "stdout",
     "output_type": "stream",
     "text": [
      "[1, 2, 3, 4, 5, [6, 7, 8]]\n"
     ]
    }
   ],
   "source": [
    "# adding items through \"append\"\n",
    "\n",
    "L = [1,2,3,4,5]\n",
    "L.append([6,7,8])\n",
    "print(L)"
   ]
  },
  {
   "cell_type": "markdown",
   "id": "09fc4876-d6c3-4a27-bf68-0c948358301a",
   "metadata": {},
   "source": [
    "hence, APPEND behaviour is to add item in single form so it treat another list as single list"
   ]
  },
  {
   "cell_type": "markdown",
   "id": "a25415e4-630c-4c08-aa71-6971cba8f65c",
   "metadata": {},
   "source": [
    "3. Insert\n",
    "\n",
    "It allows you to add item at desierd position using indexing, but only one item at one place"
   ]
  },
  {
   "cell_type": "code",
   "execution_count": 7,
   "id": "ff1eb99f-fff0-4d6a-b2ca-6ce8cde9915b",
   "metadata": {},
   "outputs": [
    {
     "name": "stdout",
     "output_type": "stream",
     "text": [
      "[1, 100, 2, 3, 4, 5]\n"
     ]
    }
   ],
   "source": [
    "L = [1,2,3,4,5]\n",
    "\n",
    "\n",
    "L.insert(1,100)\n",
    "print(L)"
   ]
  },
  {
   "cell_type": "markdown",
   "id": "860c7742-b1df-4d7f-b2ed-1f4c044d2a1a",
   "metadata": {},
   "source": [
    "# 2. Edit existing items in a list\n",
    "\n",
    "hence List is Mutable"
   ]
  },
  {
   "cell_type": "code",
   "execution_count": 9,
   "id": "112705ba-047a-4114-a6c0-ca721c8ff5d6",
   "metadata": {},
   "outputs": [
    {
     "name": "stdout",
     "output_type": "stream",
     "text": [
      "[1, 200, 300, 400, 500]\n"
     ]
    }
   ],
   "source": [
    "L = [1,2,3,4,5]\n",
    "\n",
    "# editing with indexing\n",
    "L[-1] = 500\n",
    "\n",
    "# editing with slicing\n",
    "\n",
    "L[1:4] = [200,300,400]\n",
    "\n",
    "print(L)"
   ]
  },
  {
   "cell_type": "markdown",
   "id": "bca71e89-2058-4d3b-8ed1-75b0cc61bc84",
   "metadata": {},
   "source": [
    "# 3. Deleting items from a List"
   ]
  },
  {
   "cell_type": "markdown",
   "id": "219cff3b-157b-4bd1-9086-dcd6c7055f96",
   "metadata": {},
   "source": [
    "1. Del"
   ]
  },
  {
   "cell_type": "code",
   "execution_count": 12,
   "id": "9d6c292a-f7c7-4b26-b7b3-3ae24083524c",
   "metadata": {},
   "outputs": [
    {
     "name": "stdout",
     "output_type": "stream",
     "text": [
      "[1, 2, 3, 4]\n",
      "[1, 4]\n"
     ]
    }
   ],
   "source": [
    "L = [1,2,3,4,5]\n",
    "\n",
    "# del with indexing\n",
    "del L[-1]\n",
    "print(L)\n",
    "\n",
    "# del with slicing\n",
    "del L[1:3]\n",
    "print(L)"
   ]
  },
  {
   "cell_type": "markdown",
   "id": "e3fbc5db-07b1-44b0-9a74-d8c4f9d873d3",
   "metadata": {},
   "source": [
    "2. Remove\n",
    "can remove through providing value"
   ]
  },
  {
   "cell_type": "code",
   "execution_count": 15,
   "id": "ea1688a6-291c-42f5-9442-297b2f650879",
   "metadata": {},
   "outputs": [
    {
     "name": "stdout",
     "output_type": "stream",
     "text": [
      "[1, 2, 3, 4]\n"
     ]
    }
   ],
   "source": [
    "L = [1,2,3,4,5]\n",
    "\n",
    "L.remove(5)\n",
    "print(L)\n",
    "\n"
   ]
  },
  {
   "cell_type": "markdown",
   "id": "b283042c-a002-4eac-a92b-349a6fe1fcfa",
   "metadata": {},
   "source": [
    "3. Pop\n",
    "\n",
    "by default remove last item, if index is not provided"
   ]
  },
  {
   "cell_type": "code",
   "execution_count": 16,
   "id": "0bb16d0c-47fc-4e48-8254-ff41c585241c",
   "metadata": {},
   "outputs": [
    {
     "name": "stdout",
     "output_type": "stream",
     "text": [
      "[1, 2, 3, 4]\n"
     ]
    }
   ],
   "source": [
    "L = [1,2,3,4,5]\n",
    "\n",
    "L.pop()\n",
    "print(L)"
   ]
  },
  {
   "cell_type": "markdown",
   "id": "62f51dfd-0838-4c7e-a2b7-47783c630334",
   "metadata": {},
   "source": [
    "4. Clear"
   ]
  },
  {
   "cell_type": "code",
   "execution_count": 17,
   "id": "be590691-c154-4074-8074-401913d1062b",
   "metadata": {},
   "outputs": [
    {
     "name": "stdout",
     "output_type": "stream",
     "text": [
      "[]\n"
     ]
    }
   ],
   "source": [
    "L = [1,2,3,4,5]\n",
    "\n",
    "L.clear()\n",
    "\n",
    "print(L)"
   ]
  },
  {
   "cell_type": "markdown",
   "id": "f032ebe5-83ca-45a4-9c21-f3461f09bc06",
   "metadata": {},
   "source": [
    "# Operations on Lists\n",
    "\n",
    "1. Arithimatic\n",
    "2. Membership\n",
    "3. LOOP"
   ]
  },
  {
   "cell_type": "markdown",
   "id": "073ab521-bae5-4988-a5bf-0e93623b02c5",
   "metadata": {},
   "source": [
    " 1 Arithimatic (+, * ) "
   ]
  },
  {
   "cell_type": "code",
   "execution_count": 18,
   "id": "15534347-42c0-4bb0-ab42-af175c19f09d",
   "metadata": {},
   "outputs": [
    {
     "name": "stdout",
     "output_type": "stream",
     "text": [
      "[1, 2, 3, 4, 5, 6, 7, 8]\n"
     ]
    }
   ],
   "source": [
    "L1 = [1,2,3,4]\n",
    "L2 = [5,6,7,8]\n",
    "\n",
    "# Concatenation/Merge\n",
    "\n",
    "print(L1 + L2)"
   ]
  },
  {
   "cell_type": "code",
   "execution_count": 19,
   "id": "ade9ae48-9a03-4f85-b8b1-f975d76368a8",
   "metadata": {},
   "outputs": [
    {
     "name": "stdout",
     "output_type": "stream",
     "text": [
      "[1, 2, 3, 4, 1, 2, 3, 4, 1, 2, 3, 4]\n"
     ]
    }
   ],
   "source": [
    " # Multiplication\n",
    "\n",
    "print(L1*3)"
   ]
  },
  {
   "cell_type": "markdown",
   "id": "9dd209f2-a295-43e0-be80-1d8f47e4f931",
   "metadata": {},
   "source": [
    "2. Membership\n",
    "\n",
    "check if one thing is present in given thing"
   ]
  },
  {
   "cell_type": "code",
   "execution_count": 24,
   "id": "b120e9b4-e0d3-4f80-8be2-78e9cbe4c0b4",
   "metadata": {},
   "outputs": [
    {
     "name": "stdout",
     "output_type": "stream",
     "text": [
      "True\n",
      "False\n",
      "False\n",
      "True\n"
     ]
    }
   ],
   "source": [
    "L1 = [1,2,3,4,5]\n",
    "L2 = [1,2,3,4,[5,6]]\n",
    "\n",
    "print(5 in L1)\n",
    "print(5 not in L1)\n",
    "\n",
    "\n",
    "print(5 in L2)\n",
    "\n",
    "print([5,6] in L2)"
   ]
  },
  {
   "cell_type": "markdown",
   "id": "07a75a52-729f-41dc-bfb5-45be746c9578",
   "metadata": {},
   "source": [
    "3. LOOP"
   ]
  },
  {
   "cell_type": "code",
   "execution_count": 25,
   "id": "b91f8178-8421-48c2-8666-26f7bb81d73d",
   "metadata": {},
   "outputs": [
    {
     "name": "stdout",
     "output_type": "stream",
     "text": [
      "1\n",
      "2\n",
      "3\n",
      "4\n",
      "5\n"
     ]
    }
   ],
   "source": [
    "L1 = [1,2,3,4,5]\n",
    "L2 = [1,2,3,4,[5,6]]\n",
    "\n",
    "\n",
    "for i in L1:\n",
    "    print(i)"
   ]
  },
  {
   "cell_type": "code",
   "execution_count": 26,
   "id": "803c2ea7-32a5-4a8d-9328-d39492843d61",
   "metadata": {},
   "outputs": [
    {
     "name": "stdout",
     "output_type": "stream",
     "text": [
      "1\n",
      "2\n",
      "3\n",
      "4\n",
      "[5, 6]\n"
     ]
    }
   ],
   "source": [
    "for i in L2:\n",
    "    print(i)"
   ]
  },
  {
   "cell_type": "markdown",
   "id": "175538e1-55d9-4b25-be18-abdc4c8ad50a",
   "metadata": {},
   "source": [
    "# List Functions"
   ]
  },
  {
   "cell_type": "markdown",
   "id": "df327923-0ca6-4f1d-a99b-07071c7861d1",
   "metadata": {},
   "source": [
    "1. Len/min/max/sorted (universal function)"
   ]
  },
  {
   "cell_type": "code",
   "execution_count": 31,
   "id": "9aa3b3a9-68ec-4013-ab5e-1171d3a5a6c3",
   "metadata": {},
   "outputs": [
    {
     "name": "stdout",
     "output_type": "stream",
     "text": [
      "5\n",
      "0\n",
      "7\n",
      "[0, 1, 2, 5, 7]\n",
      "[7, 5, 2, 1, 0]\n"
     ]
    }
   ],
   "source": [
    "L = [2,1,5,7,0]\n",
    "\n",
    "print(len(L))\n",
    "\n",
    "print(min(L))\n",
    "\n",
    "print(max(L))\n",
    "\n",
    "print(sorted(L))\n",
    "\n",
    "print(sorted(L,reverse = True))"
   ]
  },
  {
   "cell_type": "markdown",
   "id": "15d48be3-5b5a-4057-b8ab-d5146e83f0aa",
   "metadata": {},
   "source": [
    "2. count"
   ]
  },
  {
   "cell_type": "code",
   "execution_count": 32,
   "id": "e18a8482-08b7-4e86-889e-c72e8be3463e",
   "metadata": {},
   "outputs": [
    {
     "data": {
      "text/plain": [
       "3"
      ]
     },
     "execution_count": 32,
     "metadata": {},
     "output_type": "execute_result"
    }
   ],
   "source": [
    "L = [1,2,1,3,4,1,5]\n",
    "\n",
    "L.count(1)"
   ]
  },
  {
   "cell_type": "markdown",
   "id": "f4b312ef-0a39-47cd-8f23-695b9ceecb00",
   "metadata": {},
   "source": [
    "3. index"
   ]
  },
  {
   "cell_type": "code",
   "execution_count": 33,
   "id": "2621e37b-4880-4f2f-8514-b2cdfe562e56",
   "metadata": {},
   "outputs": [
    {
     "data": {
      "text/plain": [
       "1"
      ]
     },
     "execution_count": 33,
     "metadata": {},
     "output_type": "execute_result"
    }
   ],
   "source": [
    "L = [1,2,1,3,4,1,5]\n",
    "\n",
    "L.index(2)"
   ]
  },
  {
   "cell_type": "markdown",
   "id": "faaee98d-5c0b-485d-a047-a7441ec7464e",
   "metadata": {},
   "source": [
    "4. reverse"
   ]
  },
  {
   "cell_type": "code",
   "execution_count": 36,
   "id": "9cb96d4a-7819-4134-afd8-496dc366e043",
   "metadata": {},
   "outputs": [
    {
     "name": "stdout",
     "output_type": "stream",
     "text": [
      "[5, 1, 4, 3, 1, 2, 1]\n"
     ]
    }
   ],
   "source": [
    "\n",
    "L = [1,2,1,3,4,1,5]\n",
    "\n",
    "#permanently reverses the list\n",
    "L.reverse()\n",
    "\n",
    "print(L)"
   ]
  },
  {
   "cell_type": "markdown",
   "id": "00704073-6166-4362-8a8a-df6a42c39481",
   "metadata": {},
   "source": [
    "5. sort\n",
    "\n",
    "sort change is permanet and sorted is temprary"
   ]
  },
  {
   "cell_type": "code",
   "execution_count": 37,
   "id": "c958c8b1-1511-4c77-952b-c712288733b5",
   "metadata": {},
   "outputs": [
    {
     "name": "stdout",
     "output_type": "stream",
     "text": [
      "[2, 1, 5, 7, 0]\n",
      "[0, 1, 2, 5, 7]\n",
      "[2, 1, 5, 7, 0]\n",
      "[0, 1, 2, 5, 7]\n"
     ]
    }
   ],
   "source": [
    "L = [2,1,5,7,0]\n",
    "\n",
    "print(L)\n",
    "\n",
    "# it create new list not permanent sort\n",
    "print(sorted(L))\n",
    "\n",
    "print(L)\n",
    "\n",
    "# it permanent sort\n",
    "L.sort()\n",
    "\n",
    "print(L)"
   ]
  },
  {
   "cell_type": "markdown",
   "id": "fc6004eb-363c-4421-a231-3806d5a12297",
   "metadata": {},
   "source": [
    "7. copy\n",
    "\n",
    "it created a copy of  your list in memory , creates a shallow copy"
   ]
  },
  {
   "cell_type": "code",
   "execution_count": 40,
   "id": "9789dae6-189a-440a-a23a-1722a00bfa51",
   "metadata": {},
   "outputs": [
    {
     "name": "stdout",
     "output_type": "stream",
     "text": [
      "[2, 1, 5, 7, 0]\n",
      "2492000189440\n",
      "[2, 1, 5, 7, 0]\n",
      "2492014305856\n"
     ]
    }
   ],
   "source": [
    "L = [2,1,5,7,0]\n",
    "print(L)\n",
    "print(id(L))\n",
    "\n",
    "L1 = L.copy()\n",
    "print(L1)\n",
    "print(id(L1))"
   ]
  },
  {
   "cell_type": "markdown",
   "id": "2a784919-9e5a-4336-986c-62a0a2b6e908",
   "metadata": {},
   "source": [
    "# List Comprehension\n",
    "\n",
    "\n",
    "List Comprehension provides a concise way of creating a lists.\n",
    "\n",
    "newlist = [Expression 'for' item 'in' iterable 'if' condition == 'True']\n",
    "\n",
    "\n",
    "Advantages of List Comprehension\n",
    "\n",
    "1. More time efficient and space efficient than loops.\n",
    "2. Require fewer lines of code.\n",
    "3. Transforms iterative statments into a formula.\n"
   ]
  },
  {
   "cell_type": "code",
   "execution_count": 41,
   "id": "2bf26422-c896-4534-88ef-bc142463fc51",
   "metadata": {},
   "outputs": [
    {
     "name": "stdout",
     "output_type": "stream",
     "text": [
      "[1, 2, 3, 4, 5, 6, 7, 8, 9, 10]\n"
     ]
    }
   ],
   "source": [
    "# Add 1 to 10 number to a list\n",
    "\n",
    "L = []\n",
    "\n",
    "for i in range(1,11):\n",
    "    L.append(i)\n",
    "\n",
    "print(L)"
   ]
  },
  {
   "cell_type": "code",
   "execution_count": 42,
   "id": "4868e51d-12a7-4a87-a66e-14598ec00507",
   "metadata": {},
   "outputs": [
    {
     "name": "stdout",
     "output_type": "stream",
     "text": [
      "[1, 2, 3, 4, 5, 6, 7, 8, 9, 10]\n"
     ]
    }
   ],
   "source": [
    "L  = [i for i in range(1,11)]\n",
    "print(L)"
   ]
  },
  {
   "cell_type": "code",
   "execution_count": 43,
   "id": "7af44832-0bb7-41be-8598-f5db81cd24dd",
   "metadata": {},
   "outputs": [
    {
     "name": "stdout",
     "output_type": "stream",
     "text": [
      "[-6, -9, -12]\n"
     ]
    }
   ],
   "source": [
    "# Scalar Multiplication on a vector\n",
    "\n",
    "v = [2,3,4]\n",
    "s = -3\n",
    "\n",
    "x = []\n",
    "for i in v:\n",
    "    x.append(i*s)\n",
    "\n",
    "print(x)"
   ]
  },
  {
   "cell_type": "code",
   "execution_count": null,
   "id": "b4aa4d61-37d9-4016-91e9-73f59da9b958",
   "metadata": {},
   "outputs": [],
   "source": [
    "expression for item in iterable"
   ]
  },
  {
   "cell_type": "code",
   "execution_count": 46,
   "id": "6d4e5588-6f5f-44c3-9f99-cff8dd97a7b4",
   "metadata": {},
   "outputs": [
    {
     "data": {
      "text/plain": [
       "[-6, -9, -12]"
      ]
     },
     "execution_count": 46,
     "metadata": {},
     "output_type": "execute_result"
    }
   ],
   "source": [
    "\n",
    "\n",
    "[s*i for i in v]"
   ]
  },
  {
   "cell_type": "code",
   "execution_count": 47,
   "id": "d45361cb-db2e-4c49-af9e-9eacbdb8e6a5",
   "metadata": {},
   "outputs": [
    {
     "data": {
      "text/plain": [
       "[1, 4, 9, 16, 25]"
      ]
     },
     "execution_count": 47,
     "metadata": {},
     "output_type": "execute_result"
    }
   ],
   "source": [
    "# Add Squares\n",
    "\n",
    "L = [1,2,3,4,5]\n",
    "\n",
    "[i**2 for i in L]\n"
   ]
  },
  {
   "cell_type": "code",
   "execution_count": 48,
   "id": "19a2e553-dbbd-4ff0-a966-edf988574b6a",
   "metadata": {},
   "outputs": [],
   "source": [
    "#  Print all the numbers which are divisible by 5b in the range of 1 t0 50\n",
    "\n"
   ]
  },
  {
   "cell_type": "code",
   "execution_count": null,
   "id": "c70a781b-dc9a-4abe-bc91-61b0814f68da",
   "metadata": {},
   "outputs": [],
   "source": []
  },
  {
   "cell_type": "markdown",
   "id": "4601950c-2bf0-48e7-9693-cd643d336940",
   "metadata": {},
   "source": [
    "# 2 Ways to Traverse a list\n",
    "\n",
    "Itemwise loop\n",
    "\n",
    "\n",
    "indexwise loop"
   ]
  },
  {
   "cell_type": "code",
   "execution_count": 50,
   "id": "c524bfe2-2cdb-4e92-8da2-4cda7d6bc270",
   "metadata": {},
   "outputs": [
    {
     "name": "stdout",
     "output_type": "stream",
     "text": [
      "1\n",
      "2\n",
      "3\n",
      "4\n"
     ]
    }
   ],
   "source": [
    "# itemwise loop\n",
    "\n",
    "L = [1,2,3,4]\n",
    "\n",
    "for i in L:\n",
    "    print(i)\n",
    "    "
   ]
  },
  {
   "cell_type": "code",
   "execution_count": 54,
   "id": "79d9b8c3-2869-46ab-8e65-0212fe770359",
   "metadata": {},
   "outputs": [
    {
     "name": "stdout",
     "output_type": "stream",
     "text": [
      "0\n",
      "1\n",
      "2\n",
      "3\n"
     ]
    }
   ],
   "source": [
    "# indexwise loop\n",
    "L = [1,2,3,4]\n",
    "\n",
    "for i in range(0,len(L)):\n",
    "    print(i)\n",
    "    # print(L[i])\n"
   ]
  },
  {
   "cell_type": "markdown",
   "id": "937b9940-e657-433d-90ac-1652825365f0",
   "metadata": {},
   "source": [
    "# Zip Function\n",
    "\n",
    "The zip() functions returns a zip object, which is an iterator of tuples where the first item in each passed iterator is paired together, and then the second item in each passed iterator are paired together.\n",
    "\n",
    "if the passed iterators have different lenghts, the iterator with the least items decides the lenght of the new iterator.\n"
   ]
  },
  {
   "cell_type": "code",
   "execution_count": 57,
   "id": "9d0b7356-40d4-4d08-b58b-dc77528ed2dc",
   "metadata": {},
   "outputs": [
    {
     "data": {
      "text/plain": [
       "[0, 0, 0, 0]"
      ]
     },
     "execution_count": 57,
     "metadata": {},
     "output_type": "execute_result"
    }
   ],
   "source": [
    "# Write a program to add items of 2 Lists indexwise\n",
    "\n",
    "L1 = [1,2,3,4]\n",
    "\n",
    "L2 = [-1,-2,-3,-4]\n",
    "\n",
    "# list(zip(L1,L2))\n",
    "\n",
    "[i+j for i,j in  zip(L1,L2)]"
   ]
  },
  {
   "cell_type": "markdown",
   "id": "c44d04a5-4b48-43f0-bb4d-2d29d32f4bfe",
   "metadata": {},
   "source": [
    "Python can contain any kind of object"
   ]
  },
  {
   "cell_type": "code",
   "execution_count": 58,
   "id": "206817aa-3350-4eda-97e0-18ea454e148d",
   "metadata": {},
   "outputs": [
    {
     "name": "stdout",
     "output_type": "stream",
     "text": [
      "[1, 2, <built-in function print>, <class 'type'>, <bound method Kernel.raw_input of <ipykernel.ipkernel.IPythonKernel object at 0x0000024436CC4D50>>]\n"
     ]
    }
   ],
   "source": [
    "# can contain any kind of object \n",
    "\n",
    "L = [1,2,print,type,input]\n",
    "\n",
    "print(L)"
   ]
  },
  {
   "cell_type": "markdown",
   "id": "620649a4-5a0a-4335-8b71-00b6974f77ae",
   "metadata": {},
   "source": [
    "# Disadvantages of  python Lists\n",
    "\n",
    "1. Slow\n",
    "2. Risky usage (because of its mutable behaviour)\n",
    "in follwoing shell the expample\n",
    "4. Eats up more Memory"
   ]
  },
  {
   "cell_type": "code",
   "execution_count": 59,
   "id": "362eab31-214b-458e-93a4-4b8312996f65",
   "metadata": {},
   "outputs": [
    {
     "name": "stdout",
     "output_type": "stream",
     "text": [
      "[1, 2, 3]\n",
      "[1, 2, 3]\n",
      "[1, 2, 3, 4]\n",
      "[1, 2, 3, 4]\n"
     ]
    }
   ],
   "source": [
    "# Risky usage(because of its mutable behaviour)\n",
    "\n",
    "a = [1,2,3]\n",
    "b = a\n",
    "\n",
    "print(a)\n",
    "print(b)\n",
    "\n",
    "a.append(4)\n",
    "print(a)\n",
    "print(b)\n",
    "\n"
   ]
  },
  {
   "cell_type": "markdown",
   "id": "4950dfc2-dfdf-4d82-b444-ebf786064cbc",
   "metadata": {},
   "source": [
    "hence, the changes made in a is automatically added to b because of it's mutable nature"
   ]
  },
  {
   "cell_type": "markdown",
   "id": "c7975439-0d97-44cf-beb2-de606a5524e0",
   "metadata": {},
   "source": [
    "Questions: "
   ]
  },
  {
   "cell_type": "code",
   "execution_count": 68,
   "id": "87e14f96-04de-454d-a297-c44956d4ee9f",
   "metadata": {},
   "outputs": [
    {
     "name": "stdout",
     "output_type": "stream",
     "text": [
      "[1, 3, 5]\n",
      "[2, 4, 6]\n"
     ]
    }
   ],
   "source": [
    "L = [1,2,3,4,5,6]\n",
    "\n",
    "odd = L[0:6:2]\n",
    "print(odd)\n",
    "\n",
    "even = L[1::2]\n",
    "print(even)"
   ]
  },
  {
   "cell_type": "code",
   "execution_count": 78,
   "id": "afc6db7e-2b2a-4b10-98b0-b1e8e157a76e",
   "metadata": {},
   "outputs": [
    {
     "name": "stdout",
     "output_type": "stream",
     "text": [
      "[1, 2, 300, 4, 5]\n"
     ]
    }
   ],
   "source": [
    "# Q.2 \n",
    "\n",
    "L  = [1,2,3,4,5]\n",
    "L[2] = 300\n",
    "print(L)\n",
    "\n"
   ]
  },
  {
   "cell_type": "code",
   "execution_count": 87,
   "id": "60168978-88a8-44c8-8586-106ebe916ac3",
   "metadata": {},
   "outputs": [],
   "source": [
    "# # Q.3 \n",
    "\n",
    "# List = [1,2,3,4,4,4,5,6,7,6,5,6]\n",
    "\n",
    "# List = List(set(List))\n",
    "# print(list)"
   ]
  },
  {
   "cell_type": "code",
   "execution_count": 86,
   "id": "56f4543b-0214-4806-81dc-63cb33560dad",
   "metadata": {},
   "outputs": [],
   "source": [
    "# # Original list\n",
    "# my_list = [1, 2, 2, 3, 4, 4, 5]\n",
    "\n",
    "# # Convert to set to remove duplicates, then back to list\n",
    "# my_list = list(set(my_list))\n",
    "\n",
    "# print(\"List after removing duplicates:\", my_list)\n"
   ]
  },
  {
   "cell_type": "code",
   "execution_count": 85,
   "id": "b9b5fc70-13d3-4f3f-96ec-871a258bb438",
   "metadata": {},
   "outputs": [
    {
     "name": "stdout",
     "output_type": "stream",
     "text": [
      "List after removing duplicates: [1, 2, 3, 4, 5]\n"
     ]
    }
   ],
   "source": [
    "# Original list\n",
    "my_list = [1, 2, 2, 3, 4, 4, 5]\n",
    "\n",
    "# Use list comprehension to remove duplicates\n",
    "seen = set()\n",
    "unique_list = [x for x in my_list if not (x in seen or seen.add(x))]\n",
    "\n",
    "print(\"List after removing duplicates:\", unique_list)\n"
   ]
  },
  {
   "cell_type": "code",
   "execution_count": null,
   "id": "89a7fbce-0779-4c49-b691-a12d853c5bcd",
   "metadata": {},
   "outputs": [],
   "source": []
  }
 ],
 "metadata": {
  "kernelspec": {
   "display_name": "Python 3 (ipykernel)",
   "language": "python",
   "name": "python3"
  },
  "language_info": {
   "codemirror_mode": {
    "name": "ipython",
    "version": 3
   },
   "file_extension": ".py",
   "mimetype": "text/x-python",
   "name": "python",
   "nbconvert_exporter": "python",
   "pygments_lexer": "ipython3",
   "version": "3.11.7"
  }
 },
 "nbformat": 4,
 "nbformat_minor": 5
}
